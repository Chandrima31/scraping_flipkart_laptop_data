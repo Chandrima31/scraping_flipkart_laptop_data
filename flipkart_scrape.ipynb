{
 "cells": [
  {
   "cell_type": "code",
   "execution_count": 1,
   "metadata": {},
   "outputs": [],
   "source": [
    "from bs4 import BeautifulSoup\n",
    "from urllib.request import urlopen\n",
    "url = 'https://www.flipkart.com/laptops/~gaming/pr?count=40&p%5B%5D=sort%3Dpopularity&sid=6bo%2Fb5g&wid=2.productCard.PMU_V2_2'\n",
    "req = urlopen(url)\n",
    "p_html = req.read()\n",
    "req.close()"
   ]
  },
  {
   "cell_type": "code",
   "execution_count": null,
   "metadata": {},
   "outputs": [],
   "source": []
  },
  {
   "cell_type": "code",
   "execution_count": 3,
   "metadata": {},
   "outputs": [],
   "source": [
    "p_soup = BeautifulSoup(p_html, 'html.parser')"
   ]
  },
  {
   "cell_type": "code",
   "execution_count": null,
   "metadata": {},
   "outputs": [],
   "source": []
  },
  {
   "cell_type": "code",
   "execution_count": 5,
   "metadata": {},
   "outputs": [
    {
     "name": "stdout",
     "output_type": "stream",
     "text": [
      "17\n"
     ]
    }
   ],
   "source": [
    "laptops = p_soup.find_all('div', attrs={'class':'_3O0U0u'})\n",
    "print(len(laptops))"
   ]
  },
  {
   "cell_type": "code",
   "execution_count": 6,
   "metadata": {},
   "outputs": [
    {
     "name": "stdout",
     "output_type": "stream",
     "text": [
      "<div class=\"_3O0U0u\"><div data-id=\"COMFHNY8BHYY9JKK\" style=\"width:100%\"><div class=\"_1UoZlX\"><a class=\"_31qSD5\" href=\"/acer-nitro-5-core-i7-9th-gen-8-gb-1-tb-hdd-256-gb-ssd-windows-10-home-4-graphics-nvidia-geforce-gtx-1650-an515-54-76nb-gaming-laptop/p/itm127ed75050c29?pid=COMFHNY8BHYY9JKK&amp;lid=LSTCOMFHNY8BHYY9JKKJNZ2PE&amp;marketplace=FLIPKART&amp;srno=b_1_1&amp;otracker=browse&amp;fm=organic&amp;iid=994b68d6-e26c-45ea-bd54-eab5912ff00c.COMFHNY8BHYY9JKK.SEARCH&amp;ssid=acakatdtww0000001587572233961\" rel=\"noopener noreferrer\" target=\"_blank\"><div class=\"_3SQWE6\"><div class=\"_1OCn9C\"><div style=\"-webkit-filter:grayscale(1);-moz-filter:grayscale(1);-o-filter:grayscale(1);-ms-filter:grayscale(1);filter:grayscale(1);opacity:0.6\"><div class=\"_3BTv9X\" style=\"height:200px;width:200px\"><img alt=\"Acer Nitro 5 Core i7 9th Gen - (8 GB/1 TB HDD/256 GB SSD/Windows 10 Home/4 GB Graphics/NVIDIA Geforce ...\" class=\"_1Nyybr\" src=\"//img1a.flixcart.com/www/linchpin/fk-cp-zion/img/placeholder_9951d0.svg\"/></div></div><div class=\"_3aV9Tq\"><span class=\"_1GJ2ZM\">Not Deliverable</span></div></div><div class=\"_2lesQu\"><div class=\"_1O_CiZ\"><span class=\"_1iHA1p\"><div class=\"_2kFyHg\"><label><input class=\"_3uUUD5\" readonly=\"\" type=\"checkbox\"/><div class=\"_1p7h2j\"></div></label></div></span><label class=\"_10TB-Q\"><span>Add to Compare</span></label></div></div><div class=\"_3gDSOa _32A6AP\"><div class=\"DsQ2eg\"><svg class=\"_2oLiqr\" height=\"16\" viewbox=\"0 0 20 16\" width=\"16\" xmlns=\"http://www.w3.org/2000/svg\"><path class=\"_35Y7Yo\" d=\"M8.695 16.682C4.06 12.382 1 9.536 1 6.065 1 3.219 3.178 1 5.95 1c1.566 0 3.069.746 4.05 1.915C10.981 1.745 12.484 1 14.05 1 16.822 1 19 3.22 19 6.065c0 3.471-3.06 6.316-7.695 10.617L10 17.897l-1.305-1.215z\" fill=\"#2874F0\" fill-rule=\"evenodd\" opacity=\".9\" stroke=\"#FFF\"></path></svg></div></div></div><div class=\"_1-2Iqu row\"><div class=\"col col-7-12\"><div class=\"_3wU53n\">Acer Nitro 5 Core i7 9th Gen - (8 GB/1 TB HDD/256 GB SSD/Windows 10 Home/4 GB Graphics/NVIDIA Geforce ...</div><div class=\"niH0FQ\"><span class=\"_2_KrJI\" id=\"productRating_LSTCOMFHNY8BHYY9JKKJNZ2PE_COMFHNY8BHYY9JKK_\"><div class=\"hGSR34\">4.6<img class=\"_2lQ_WZ\" src=\"data:image/svg+xml;base64,PHN2ZyB4bWxucz0iaHR0cDovL3d3dy53My5vcmcvMjAwMC9zdmciIHdpZHRoPSIxMyIgaGVpZ2h0PSIxMiI+PHBhdGggZmlsbD0iI0ZGRiIgZD0iTTYuNSA5LjQzOWwtMy42NzQgMi4yMy45NC00LjI2LTMuMjEtMi44ODMgNC4yNTQtLjQwNEw2LjUuMTEybDEuNjkgNC4wMSA0LjI1NC40MDQtMy4yMSAyLjg4Mi45NCA0LjI2eiIvPjwvc3ZnPg==\"/></div></span><span class=\"_38sUEc\"><span><span>474 Ratings </span><span class=\"_1VpSqZ\">&amp;</span><span> 83 Reviews</span></span></span></div><div class=\"_3ULzGw\"><ul class=\"vFw0gD\"><li class=\"tVe95H\">Intel Core i7 Processor (9th Gen)</li><li class=\"tVe95H\">8 GB DDR4 RAM</li><li class=\"tVe95H\">64 bit Windows 10 Operating System</li><li class=\"tVe95H\">1 TB HDD|256 GB SSD</li><li class=\"tVe95H\">39.62 cm (15.6 inch) Display</li><li class=\"tVe95H\">1 Year International Travelers Warranty (ITW)</li></ul></div></div><div class=\"col col-5-12 _2o7WAb\"><div class=\"_6BWGkk\"><div class=\"_1uv9Cb\"><div class=\"_1vC4OE _2rQ-NK\">₹69,990</div><div class=\"_3auQ3N _2GcJzG\">₹<!-- -->1,04,999</div><div class=\"VGWI6T\"><span>33% off</span></div></div></div><div class=\"_3n6o0t\"><img height=\"21\" src=\"//img1a.flixcart.com/www/linchpin/fk-cp-zion/img/fa_8b4b59.png\"/></div><div class=\"_2nE8_R\"><div class=\"_3_G5Wj\" style=\"color:#000000;font-size:14px;font-family:inherit;font-weight:normal\">No Cost EMI</div></div></div></div></a></div></div></div>\n"
     ]
    }
   ],
   "source": [
    "print(laptops[0])"
   ]
  },
  {
   "cell_type": "code",
   "execution_count": 7,
   "metadata": {},
   "outputs": [
    {
     "name": "stdout",
     "output_type": "stream",
     "text": [
      "Acer Nitro 5 Core i7 9th Gen\n"
     ]
    }
   ],
   "source": [
    "name = laptops[0].find_all('div', attrs={'class':'_3wU53n'})\n",
    "name = name[0].text\n",
    "name = name.split(' - ')\n",
    "name = name[0]\n",
    "print(name)"
   ]
  },
  {
   "cell_type": "code",
   "execution_count": 8,
   "metadata": {},
   "outputs": [
    {
     "name": "stdout",
     "output_type": "stream",
     "text": [
      "4.6\n"
     ]
    }
   ],
   "source": [
    "rating = laptops[0].find_all('div', attrs={'class':'hGSR34'})\n",
    "rating = rating[0].text\n",
    "print(rating)"
   ]
  },
  {
   "cell_type": "code",
   "execution_count": 9,
   "metadata": {},
   "outputs": [
    {
     "name": "stdout",
     "output_type": "stream",
     "text": [
      "69990\n"
     ]
    }
   ],
   "source": [
    "price = laptops[0].find_all('div', attrs={'class':'_1vC4OE _2rQ-NK'})\n",
    "price = price[0].text\n",
    "price = price.replace('₹','')\n",
    "price = price.replace(',','')\n",
    "print(price)"
   ]
  },
  {
   "cell_type": "code",
   "execution_count": 10,
   "metadata": {},
   "outputs": [
    {
     "name": "stdout",
     "output_type": "stream",
     "text": [
      "[['Names', 'Ratings', 'Prices'], ['Acer Nitro 5 Core i7 9th Gen', '4.6', '69990'], ['HP Pavilion 15-EC Ryzen 5 Quad Core', '4.5', '49990'], ['Acer Nitro 5 Ryzen 5 Quad Core', '4.3', '49990'], ['Acer Nitro 5 Ryzen 5 Quad Core', '4.4', '47990'], ['Acer Predator Triton 300 Core i5 9th Gen', '4.6', '67990'], ['Asus VivoBook Gaming Core i5 9th Gen', '4.6', '54990'], ['Asus ROG Strix G Core i5 9th Gen', '4.6', '67990'], ['Acer Nitro 5 Ryzen 5 Quad Core', '4.6', '49990'], ['Asus ROG Strix G Core i5 9th Gen', '4.4', '52990'], ['Asus ROG Strix G Core i5 9th Gen', '4.6', '62990'], ['Acer NITRO 5 Core i5 9th Gen', '4.4', '49990'], ['Acer Nitro 5 Core i5 9th Gen', '4.6', '62990'], ['Acer Predator Helios 300 Core i5 9th Gen', '4.7', '94990'], ['Asus ROG Strix G Core i7 9th Gen', '4.6', '86990'], ['Dell G3 Series Core i5 8th Gen', '4.4', '59990'], ['MSI G Ryzen 7 Quad Core', '4.1', '74990'], ['Lenovo Ideapad L340 Core i5 9th Gen', '4.2', '95000']]\n"
     ]
    }
   ],
   "source": [
    "lappy_list = [['Names', 'Ratings', 'Prices']]\n",
    "#lappy_list = []\n",
    "for i in laptops:\n",
    "    name = i.find_all('div', attrs={'class':'_3wU53n'})\n",
    "    name = name[0].text\n",
    "    name = name.split(' - ')\n",
    "    name = name[0]\n",
    "    \n",
    "    rating = i.find_all('div', attrs={'class':'hGSR34'})\n",
    "    rating = rating[0].text\n",
    "    \n",
    "    price = i.find_all('div', attrs={'class':'_1vC4OE _2rQ-NK'})\n",
    "    price = price[0].text\n",
    "    price = price.replace('₹','')\n",
    "    price = price.replace(',','')\n",
    "    \n",
    "    lappy_list.append([name, rating, price])\n",
    "    \n",
    "print(lappy_list)"
   ]
  },
  {
   "cell_type": "code",
   "execution_count": 11,
   "metadata": {},
   "outputs": [
    {
     "name": "stdout",
     "output_type": "stream",
     "text": [
      "----------------------------------------  -------  ------\n",
      "Names                                     Ratings  Prices\n",
      "Acer Nitro 5 Core i7 9th Gen              4.6      69990\n",
      "HP Pavilion 15-EC Ryzen 5 Quad Core       4.5      49990\n",
      "Acer Nitro 5 Ryzen 5 Quad Core            4.3      49990\n",
      "Acer Nitro 5 Ryzen 5 Quad Core            4.4      47990\n",
      "Acer Predator Triton 300 Core i5 9th Gen  4.6      67990\n",
      "Asus VivoBook Gaming Core i5 9th Gen      4.6      54990\n",
      "Asus ROG Strix G Core i5 9th Gen          4.6      67990\n",
      "Acer Nitro 5 Ryzen 5 Quad Core            4.6      49990\n",
      "Asus ROG Strix G Core i5 9th Gen          4.4      52990\n",
      "Asus ROG Strix G Core i5 9th Gen          4.6      62990\n",
      "Acer NITRO 5 Core i5 9th Gen              4.4      49990\n",
      "Acer Nitro 5 Core i5 9th Gen              4.6      62990\n",
      "Acer Predator Helios 300 Core i5 9th Gen  4.7      94990\n",
      "Asus ROG Strix G Core i7 9th Gen          4.6      86990\n",
      "Dell G3 Series Core i5 8th Gen            4.4      59990\n",
      "MSI G Ryzen 7 Quad Core                   4.1      74990\n",
      "Lenovo Ideapad L340 Core i5 9th Gen       4.2      95000\n",
      "----------------------------------------  -------  ------\n"
     ]
    }
   ],
   "source": [
    "from tabulate import tabulate\n",
    "print(tabulate(lappy_list))"
   ]
  },
  {
   "cell_type": "code",
   "execution_count": 12,
   "metadata": {},
   "outputs": [],
   "source": [
    "import pandas as pd\n",
    "pd.DataFrame(lappy_list).to_excel('lappies.xls')"
   ]
  },
  {
   "cell_type": "code",
   "execution_count": null,
   "metadata": {},
   "outputs": [],
   "source": []
  }
 ],
 "metadata": {
  "kernelspec": {
   "display_name": "Python 3",
   "language": "python",
   "name": "python3"
  },
  "language_info": {
   "codemirror_mode": {
    "name": "ipython",
    "version": 3
   },
   "file_extension": ".py",
   "mimetype": "text/x-python",
   "name": "python",
   "nbconvert_exporter": "python",
   "pygments_lexer": "ipython3",
   "version": "3.7.3"
  }
 },
 "nbformat": 4,
 "nbformat_minor": 2
}
